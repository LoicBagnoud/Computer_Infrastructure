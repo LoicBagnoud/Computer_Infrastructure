{
 "cells": [
  {
   "cell_type": "markdown",
   "id": "09139452",
   "metadata": {},
   "source": [
    "# Problems"
   ]
  },
  {
   "cell_type": "markdown",
   "id": "8ab94e00",
   "metadata": {},
   "source": [
    "## Problem 1: Data from yfinance"
   ]
  },
  {
   "cell_type": "code",
   "execution_count": 2,
   "id": "6e29cbb2",
   "metadata": {},
   "outputs": [
    {
     "name": "stderr",
     "output_type": "stream",
     "text": [
      "/tmp/ipykernel_7983/3987255961.py:2: FutureWarning: YF.download() has changed argument auto_adjust default to True\n",
      "  yf.download(\"AAPL\",start=\"2020-01-01\", end=\"2020-12-31\")\n",
      "[*********************100%***********************]  1 of 1 completed\n"
     ]
    },
    {
     "data": {
      "text/html": [
       "<div>\n",
       "<style scoped>\n",
       "    .dataframe tbody tr th:only-of-type {\n",
       "        vertical-align: middle;\n",
       "    }\n",
       "\n",
       "    .dataframe tbody tr th {\n",
       "        vertical-align: top;\n",
       "    }\n",
       "\n",
       "    .dataframe thead tr th {\n",
       "        text-align: left;\n",
       "    }\n",
       "\n",
       "    .dataframe thead tr:last-of-type th {\n",
       "        text-align: right;\n",
       "    }\n",
       "</style>\n",
       "<table border=\"1\" class=\"dataframe\">\n",
       "  <thead>\n",
       "    <tr>\n",
       "      <th>Price</th>\n",
       "      <th>Close</th>\n",
       "      <th>High</th>\n",
       "      <th>Low</th>\n",
       "      <th>Open</th>\n",
       "      <th>Volume</th>\n",
       "    </tr>\n",
       "    <tr>\n",
       "      <th>Ticker</th>\n",
       "      <th>AAPL</th>\n",
       "      <th>AAPL</th>\n",
       "      <th>AAPL</th>\n",
       "      <th>AAPL</th>\n",
       "      <th>AAPL</th>\n",
       "    </tr>\n",
       "    <tr>\n",
       "      <th>Date</th>\n",
       "      <th></th>\n",
       "      <th></th>\n",
       "      <th></th>\n",
       "      <th></th>\n",
       "      <th></th>\n",
       "    </tr>\n",
       "  </thead>\n",
       "  <tbody>\n",
       "    <tr>\n",
       "      <th>2020-01-02</th>\n",
       "      <td>72.538498</td>\n",
       "      <td>72.598876</td>\n",
       "      <td>71.292289</td>\n",
       "      <td>71.545875</td>\n",
       "      <td>135480400</td>\n",
       "    </tr>\n",
       "    <tr>\n",
       "      <th>2020-01-03</th>\n",
       "      <td>71.833298</td>\n",
       "      <td>72.594063</td>\n",
       "      <td>71.608692</td>\n",
       "      <td>71.765674</td>\n",
       "      <td>146322800</td>\n",
       "    </tr>\n",
       "    <tr>\n",
       "      <th>2020-01-06</th>\n",
       "      <td>72.405685</td>\n",
       "      <td>72.444328</td>\n",
       "      <td>70.703020</td>\n",
       "      <td>70.954195</td>\n",
       "      <td>118387200</td>\n",
       "    </tr>\n",
       "    <tr>\n",
       "      <th>2020-01-07</th>\n",
       "      <td>72.065147</td>\n",
       "      <td>72.671341</td>\n",
       "      <td>71.845369</td>\n",
       "      <td>72.415337</td>\n",
       "      <td>108872000</td>\n",
       "    </tr>\n",
       "    <tr>\n",
       "      <th>2020-01-08</th>\n",
       "      <td>73.224426</td>\n",
       "      <td>73.526318</td>\n",
       "      <td>71.768101</td>\n",
       "      <td>71.768101</td>\n",
       "      <td>132079200</td>\n",
       "    </tr>\n",
       "    <tr>\n",
       "      <th>...</th>\n",
       "      <td>...</td>\n",
       "      <td>...</td>\n",
       "      <td>...</td>\n",
       "      <td>...</td>\n",
       "      <td>...</td>\n",
       "    </tr>\n",
       "    <tr>\n",
       "      <th>2020-12-23</th>\n",
       "      <td>127.606911</td>\n",
       "      <td>129.039259</td>\n",
       "      <td>127.431512</td>\n",
       "      <td>128.776183</td>\n",
       "      <td>88223700</td>\n",
       "    </tr>\n",
       "    <tr>\n",
       "      <th>2020-12-24</th>\n",
       "      <td>128.591034</td>\n",
       "      <td>130.042889</td>\n",
       "      <td>127.743314</td>\n",
       "      <td>127.957683</td>\n",
       "      <td>54930100</td>\n",
       "    </tr>\n",
       "    <tr>\n",
       "      <th>2020-12-28</th>\n",
       "      <td>133.190170</td>\n",
       "      <td>133.823522</td>\n",
       "      <td>130.091584</td>\n",
       "      <td>130.559304</td>\n",
       "      <td>124486200</td>\n",
       "    </tr>\n",
       "    <tr>\n",
       "      <th>2020-12-29</th>\n",
       "      <td>131.416779</td>\n",
       "      <td>135.236409</td>\n",
       "      <td>130.900350</td>\n",
       "      <td>134.515365</td>\n",
       "      <td>121047300</td>\n",
       "    </tr>\n",
       "    <tr>\n",
       "      <th>2020-12-30</th>\n",
       "      <td>130.296219</td>\n",
       "      <td>132.508102</td>\n",
       "      <td>129.984405</td>\n",
       "      <td>132.108596</td>\n",
       "      <td>96452100</td>\n",
       "    </tr>\n",
       "  </tbody>\n",
       "</table>\n",
       "<p>252 rows × 5 columns</p>\n",
       "</div>"
      ],
      "text/plain": [
       "Price            Close        High         Low        Open     Volume\n",
       "Ticker            AAPL        AAPL        AAPL        AAPL       AAPL\n",
       "Date                                                                 \n",
       "2020-01-02   72.538498   72.598876   71.292289   71.545875  135480400\n",
       "2020-01-03   71.833298   72.594063   71.608692   71.765674  146322800\n",
       "2020-01-06   72.405685   72.444328   70.703020   70.954195  118387200\n",
       "2020-01-07   72.065147   72.671341   71.845369   72.415337  108872000\n",
       "2020-01-08   73.224426   73.526318   71.768101   71.768101  132079200\n",
       "...                ...         ...         ...         ...        ...\n",
       "2020-12-23  127.606911  129.039259  127.431512  128.776183   88223700\n",
       "2020-12-24  128.591034  130.042889  127.743314  127.957683   54930100\n",
       "2020-12-28  133.190170  133.823522  130.091584  130.559304  124486200\n",
       "2020-12-29  131.416779  135.236409  130.900350  134.515365  121047300\n",
       "2020-12-30  130.296219  132.508102  129.984405  132.108596   96452100\n",
       "\n",
       "[252 rows x 5 columns]"
      ]
     },
     "execution_count": 2,
     "metadata": {},
     "output_type": "execute_result"
    }
   ],
   "source": [
    "import yfinance as yf\n",
    "yf.download(\"AAPL\",start=\"2020-01-01\", end=\"2020-12-31\")"
   ]
  },
  {
   "cell_type": "markdown",
   "id": "f6481a97",
   "metadata": {},
   "source": [
    "## Problem 2: Plotting Data"
   ]
  },
  {
   "cell_type": "markdown",
   "id": "26f52718",
   "metadata": {},
   "source": [
    "## Problem 3: Script\n"
   ]
  },
  {
   "cell_type": "markdown",
   "id": "1266c419",
   "metadata": {},
   "source": [
    "## Problem 4: Automation\n"
   ]
  }
 ],
 "metadata": {
  "kernelspec": {
   "display_name": "Python 3",
   "language": "python",
   "name": "python3"
  },
  "language_info": {
   "codemirror_mode": {
    "name": "ipython",
    "version": 3
   },
   "file_extension": ".py",
   "mimetype": "text/x-python",
   "name": "python",
   "nbconvert_exporter": "python",
   "pygments_lexer": "ipython3",
   "version": "3.12.1"
  }
 },
 "nbformat": 4,
 "nbformat_minor": 5
}
