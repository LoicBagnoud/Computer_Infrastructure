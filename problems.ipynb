{
 "cells": [
  {
   "cell_type": "markdown",
   "id": "09139452",
   "metadata": {},
   "source": [
    "# Problems"
   ]
  },
  {
   "cell_type": "markdown",
   "id": "8ab94e00",
   "metadata": {},
   "source": [
    "## Problem 1: Data from yfinance"
   ]
  },
  {
   "cell_type": "code",
   "execution_count": null,
   "id": "6e29cbb2",
   "metadata": {},
   "outputs": [],
   "source": []
  },
  {
   "cell_type": "markdown",
   "id": "f6481a97",
   "metadata": {},
   "source": [
    "## Problem 2: Plotting Data"
   ]
  },
  {
   "cell_type": "markdown",
   "id": "26f52718",
   "metadata": {},
   "source": [
    "## Problem 3: Script\n"
   ]
  },
  {
   "cell_type": "markdown",
   "id": "1266c419",
   "metadata": {},
   "source": [
    "## Problem 4: Automation\n"
   ]
  }
 ],
 "metadata": {
  "language_info": {
   "name": "python"
  }
 },
 "nbformat": 4,
 "nbformat_minor": 5
}
