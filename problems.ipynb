{
 "cells": [
  {
   "cell_type": "markdown",
   "id": "09139452",
   "metadata": {},
   "source": [
    "# Problems"
   ]
  },
  {
   "cell_type": "markdown",
   "id": "8ab94e00",
   "metadata": {},
   "source": [
    "## Problem 1: Data from yfinance"
   ]
  },
  {
   "cell_type": "markdown",
   "id": "86f73bb0",
   "metadata": {},
   "source": [
    "The first thing that is necessary is to import the packages we need. In this case, we'll start with yfinance and pandas as well as datetime."
   ]
  },
  {
   "cell_type": "code",
   "execution_count": 16,
   "id": "6e29cbb2",
   "metadata": {},
   "outputs": [],
   "source": [
    "# This imports yfinance\n",
    "import yfinance as yf\n",
    "\n",
    "# This imports Panda\n",
    "import pandas as pd\n",
    "\n",
    "# This imports datetime\n",
    "from datetime import datetime"
   ]
  },
  {
   "cell_type": "markdown",
   "id": "d508a433",
   "metadata": {},
   "source": [
    "Afterwards, since this is an unnoficial package, let's test it out to make sure it's working. If we follow allong with the main documentation, we can see that yf.download will get us the data. If everything is working, we should have no issues getting the data. "
   ]
  },
  {
   "cell_type": "code",
   "execution_count": 17,
   "id": "7d9f7e23",
   "metadata": {},
   "outputs": [
    {
     "name": "stderr",
     "output_type": "stream",
     "text": [
      "/tmp/ipykernel_2466/2821640980.py:5: FutureWarning: YF.download() has changed argument auto_adjust default to True\n",
      "  current_data = yf.download([\"META\", \"AAPL\", \"AMZN\", \"NFLX\", \"GOOG\"], period='1mo')\n",
      "[*********************100%***********************]  5 of 5 completed"
     ]
    },
    {
     "name": "stdout",
     "output_type": "stream",
     "text": [
      "Price            Close                                                   \\\n",
      "Ticker            AAPL        AMZN        GOOG        META         NFLX   \n",
      "Date                                                                      \n",
      "2025-09-15  236.699997  231.429993  251.759995  764.184204  1202.260010   \n",
      "2025-09-16  238.149994  234.050003  251.419998  778.474548  1200.510010   \n",
      "2025-09-17  238.990005  231.619995  249.850006  775.196777  1228.500000   \n",
      "2025-09-18  237.880005  231.229996  252.330002  779.723755  1207.780029   \n",
      "2025-09-19  245.500000  231.479996  255.240005  777.854980  1226.969971   \n",
      "2025-09-22  256.079987  227.630005  252.880005  765.159973  1227.369995   \n",
      "2025-09-23  254.429993  220.710007  252.339996  755.400024  1218.469971   \n",
      "2025-09-24  252.309998  220.210007  247.830002  760.659973  1203.949951   \n",
      "2025-09-25  256.869995  218.149994  246.570007  748.909973  1208.239990   \n",
      "2025-09-26  255.460007  219.779999  247.179993  743.750000  1210.609985   \n",
      "2025-09-29  254.429993  222.169998  244.360001  743.400024  1206.410034   \n",
      "2025-09-30  254.630005  219.570007  243.550003  734.380005  1198.920044   \n",
      "2025-10-01  255.449997  220.630005  245.539993  717.340027  1170.900024   \n",
      "2025-10-02  257.130005  222.410004  246.429993  727.049988  1162.530029   \n",
      "2025-10-03  258.019989  219.509995  246.449997  710.559998  1153.319946   \n",
      "2025-10-06  256.690002  220.899994  251.509995  715.659973  1163.310059   \n",
      "2025-10-07  256.480011  221.779999  247.130005  713.080017  1191.060059   \n",
      "2025-10-08  258.059998  225.220001  245.460007  717.840027  1214.250000   \n",
      "2025-10-09  254.039993  227.740005  242.210007  733.510010  1231.069946   \n",
      "2025-10-10  245.270004  216.369995  237.490005  705.299988  1220.079956   \n",
      "2025-10-13  247.675003  220.360001  244.789993  715.429993  1219.829956   \n",
      "\n",
      "Price             High                                                   ...  \\\n",
      "Ticker            AAPL        AMZN        GOOG        META         NFLX  ...   \n",
      "Date                                                                     ...   \n",
      "2025-09-15  238.190002  233.729996  252.750000  773.547879  1207.239990  ...   \n",
      "2025-09-16  241.220001  235.899994  253.229996  780.832942  1209.000000  ...   \n",
      "2025-09-17  240.100006  234.300003  251.949997  782.761679  1233.930054  ...   \n",
      "2025-09-18  241.199997  233.479996  254.139999  788.248031  1233.000000  ...   \n",
      "2025-09-19  246.300003  234.160004  256.700012  790.266586  1229.949951  ...   \n",
      "2025-09-22  256.640015  230.570007  256.309998  785.729980  1229.760010  ...   \n",
      "2025-09-23  257.339996  227.860001  254.770004  770.599976  1227.790039  ...   \n",
      "2025-09-24  255.740005  224.559998  252.960007  761.109985  1221.500000  ...   \n",
      "2025-09-25  257.170013  220.669998  247.315002  756.770020  1216.839966  ...   \n",
      "2025-09-26  257.600006  221.050003  250.119995  751.929993  1214.000000  ...   \n",
      "2025-09-29  255.000000  222.600006  251.647995  750.780029  1224.489990  ...   \n",
      "2025-09-30  255.919998  222.240005  243.675003  742.969971  1208.500000  ...   \n",
      "2025-10-01  258.790009  222.149994  247.149994  721.849976  1179.140015  ...   \n",
      "2025-10-02  258.179993  222.809998  247.634995  727.770020  1163.329956  ...   \n",
      "2025-10-03  259.239990  224.199997  247.117996  731.000000  1168.000000  ...   \n",
      "2025-10-06  259.070007  221.729996  252.199997  716.880005  1163.579956  ...   \n",
      "2025-10-07  257.399994  222.889999  251.550003  718.500000  1201.369995  ...   \n",
      "2025-10-08  258.519989  226.729996  247.259995  719.650024  1217.390015  ...   \n",
      "2025-10-09  258.000000  228.210007  245.554993  733.510010  1237.500000  ...   \n",
      "2025-10-10  256.380005  228.250000  244.839996  735.270020  1247.000000  ...   \n",
      "2025-10-13  249.689301  220.669998  244.990005  719.940002  1231.119995  ...   \n",
      "\n",
      "Price             Open                                                   \\\n",
      "Ticker            AAPL        AMZN        GOOG        META         NFLX   \n",
      "Date                                                                      \n",
      "2025-09-15  237.000000  230.630005  245.139999  756.959039  1188.400024   \n",
      "2025-09-16  237.179993  232.940002  252.330002  766.482643  1205.640015   \n",
      "2025-09-17  238.970001  233.770004  251.460007  779.463917  1221.020020   \n",
      "2025-09-18  239.970001  232.500000  251.860001  780.223418  1220.819946   \n",
      "2025-09-19  241.229996  232.369995  253.399994  785.889535  1218.619995   \n",
      "2025-09-22  248.300003  230.559998  254.779999  781.849976  1221.900024   \n",
      "2025-09-23  255.880005  227.830002  253.654999  769.250000  1227.329956   \n",
      "2025-09-24  255.220001  224.149994  252.149994  757.500000  1218.609985   \n",
      "2025-09-25  253.210007  220.059998  244.839996  753.450012  1203.089966   \n",
      "2025-09-26  254.100006  219.080002  247.785004  750.000000  1205.420044   \n",
      "2025-09-29  254.559998  220.080002  248.274994  748.719971  1205.000000   \n",
      "2025-09-30  254.860001  222.029999  243.059998  742.250000  1206.410034   \n",
      "2025-10-01  255.039993  217.360001  241.179993  721.489990  1175.489990   \n",
      "2025-10-02  256.579987  221.009995  245.639999  722.580017  1161.500000   \n",
      "2025-10-03  254.669998  223.440002  245.229996  729.630005  1165.000000   \n",
      "2025-10-06  257.989990  221.000000  245.779999  705.190002  1160.369995   \n",
      "2025-10-07  256.809998  220.880005  248.929993  717.719971  1177.790039   \n",
      "2025-10-08  256.519989  222.919998  246.199997  713.450012  1197.109985   \n",
      "2025-10-09  257.809998  225.000000  245.059998  718.280029  1214.250000   \n",
      "2025-10-10  254.940002  226.210007  242.160004  730.919983  1229.000000   \n",
      "2025-10-13  249.380005  217.699997  240.970001  713.010010  1221.930054   \n",
      "\n",
      "Price          Volume                                         \n",
      "Ticker           AAPL      AMZN      GOOG      META     NFLX  \n",
      "Date                                                          \n",
      "2025-09-15   42699500  33243300  29935200  10533800  2909300  \n",
      "2025-09-16   63421100  38203900  24493500  11782500  2404700  \n",
      "2025-09-17   46508000  42815200  20491300   9400900  3459800  \n",
      "2025-09-18   44249600  37931700  21166400  10955000  3169100  \n",
      "2025-09-19  163741300  97943200  41616800  23696800  4947600  \n",
      "2025-09-22  105517400  45914500  20079000  11706900  2546800  \n",
      "2025-09-23   60275200  70956200  17521100  10872600  2499100  \n",
      "2025-09-24   42303700  49509000  16958500   8828200  2773100  \n",
      "2025-09-25   55202100  52226300  17379800  10591100  1997800  \n",
      "2025-09-26   46076300  41650100  16594600   9696300  1945000  \n",
      "2025-09-29   40127700  44259200  23157200   9246800  3033200  \n",
      "2025-09-30   37704300  48396400  22541200  16226800  3830300  \n",
      "2025-10-01   48713900  43933800  23967700  20419600  4110200  \n",
      "2025-10-02   42630200  41258600  20657500  11415300  4685500  \n",
      "2025-10-03   49155600  43639000  19941400  16154300  3137400  \n",
      "2025-10-06   44664100  43690900  18309000  21654700  2968600  \n",
      "2025-10-07   31955800  31194700  13811200  12062900  3309100  \n",
      "2025-10-08   36496900  46686000  14136500  10790600  2851400  \n",
      "2025-10-09   38322000  46412100  19375700  12717200  2824100  \n",
      "2025-10-10   61782400  71966500  22380600  16887300  4143100  \n",
      "2025-10-13   26905710  31140544   9423737   7607887  1687232  \n",
      "\n",
      "[21 rows x 25 columns]\n"
     ]
    },
    {
     "name": "stderr",
     "output_type": "stream",
     "text": [
      "\n"
     ]
    }
   ],
   "source": [
    "# As per the documentation, we create first the variable called tickers and use yf.Tickers.\n",
    "tickers = yf.Tickers('META AAPL AMZN NFLX GOOG')\n",
    "\n",
    "# With that variable set up, we can go ahead and just print data for 1 month. \n",
    "current_data = yf.download([\"META\", \"AAPL\", \"AMZN\", \"NFLX\", \"GOOG\"], period='1mo')\n",
    "print(current_data)\n",
    "\n",
    "# References:\n",
    "# https://ranaroussi.github.io/yfinance/"
   ]
  },
  {
   "cell_type": "markdown",
   "id": "2fda2d9f",
   "metadata": {},
   "source": [
    "With everything properly tested, the next step is writing the function itself on these same companies."
   ]
  },
  {
   "cell_type": "code",
   "execution_count": 18,
   "id": "7e6fa3d5",
   "metadata": {},
   "outputs": [],
   "source": [
    "def get_data():\n",
    "    \n",
    "    # By following the documentation and the format that we defined above, we can do the same thing here. The only problem I had was the hourly interval.\n",
    "    # Luckily, I was able to find some information on this and the only thing that's needed is setting up a variable called \"interval\" with the desired interval.\n",
    "    df = yf.download(\n",
    "        [\"META\", \"AAPL\", \"AMZN\", \"NFLX\", \"GOOG\"],\n",
    "        period=\"5d\",\n",
    "        interval=\"1h\"\n",
    "    )\n",
    "\n",
    "    # We then use the datetime package to help us with the formatting. In this case, we can use strftime, which returns\n",
    "    # a string representing date and time using date, time or datetime object. In other words, we get use the datetime function and apply that \n",
    "    # format to look the way we want.\n",
    "    time_format = datetime.now().strftime(\"%Y%m%d-%H%M%S\")\n",
    "\n",
    "    # We create a variable called data that contains the full path and name of the file we need to save. \n",
    "    data = f\"data/{time_format}.csv\"\n",
    "\n",
    "    # Finally, we send it to the folder with the to_csv function.\n",
    "    df.to_csv(data)\n",
    "\n",
    "\n",
    "# References\n",
    "# https://algotrading101.com/learn/yfinance-guide/\n",
    "# https://www.programiz.com/python-programming/datetime/strftime\n",
    "# https://www.geeksforgeeks.org/pandas/saving-a-pandas-dataframe-as-a-csv/"
   ]
  },
  {
   "cell_type": "code",
   "execution_count": null,
   "id": "b3c7a6b2",
   "metadata": {},
   "outputs": [
    {
     "name": "stderr",
     "output_type": "stream",
     "text": [
      "/tmp/ipykernel_2466/296828380.py:5: FutureWarning: YF.download() has changed argument auto_adjust default to True\n",
      "  df = yf.download(\n"
     ]
    },
    {
     "name": "stderr",
     "output_type": "stream",
     "text": [
      "[*********************100%***********************]  5 of 5 completed\n"
     ]
    }
   ],
   "source": [
    "# If it all works out, we can run this and it will create our csv file. \n",
    "get_data()"
   ]
  },
  {
   "cell_type": "markdown",
   "id": "f6481a97",
   "metadata": {},
   "source": [
    "## Problem 2: Plotting Data"
   ]
  },
  {
   "cell_type": "markdown",
   "id": "26f52718",
   "metadata": {},
   "source": [
    "## Problem 3: Script\n"
   ]
  },
  {
   "cell_type": "markdown",
   "id": "1266c419",
   "metadata": {},
   "source": [
    "## Problem 4: Automation\n"
   ]
  }
 ],
 "metadata": {
  "kernelspec": {
   "display_name": "Python 3",
   "language": "python",
   "name": "python3"
  },
  "language_info": {
   "codemirror_mode": {
    "name": "ipython",
    "version": 3
   },
   "file_extension": ".py",
   "mimetype": "text/x-python",
   "name": "python",
   "nbconvert_exporter": "python",
   "pygments_lexer": "ipython3",
   "version": "3.12.1"
  }
 },
 "nbformat": 4,
 "nbformat_minor": 5
}
